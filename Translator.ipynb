{
 "cells": [
  {
   "cell_type": "code",
   "execution_count": 11,
   "metadata": {},
   "outputs": [],
   "source": [
    "# Required Modules\n",
    "from tkinter import *\n",
    "from translate import Translator"
   ]
  },
  {
   "cell_type": "code",
   "execution_count": 12,
   "metadata": {},
   "outputs": [],
   "source": [
    "#Translator function \n",
    "def translate():\n",
    "    translator= Translator(from_lang=lan1.get(),to_lang=lan2.get())\n",
    "    translation = translator.translate(var.get())\n",
    "    var1.set(translation)\n"
   ]
  },
  {
   "cell_type": "code",
   "execution_count": 13,
   "metadata": {},
   "outputs": [
    {
     "data": {
      "text/plain": [
       "''"
      ]
     },
     "execution_count": 13,
     "metadata": {},
     "output_type": "execute_result"
    }
   ],
   "source": [
    "#Tkinter root Window with title\n",
    "root = Tk()\n",
    "root.title(\"Translator\")"
   ]
  },
  {
   "cell_type": "code",
   "execution_count": 14,
   "metadata": {},
   "outputs": [],
   "source": [
    "#Creating a Frame and Grid to hold the Content\n",
    "mainframe = Frame(root)\n",
    "mainframe.grid(column=0,row=0, sticky=(N,W,E,S) )\n",
    "mainframe.columnconfigure(0, weight = 1)\n",
    "mainframe.rowconfigure(0, weight = 1)\n",
    "mainframe.pack(pady = 100, padx = 100)"
   ]
  },
  {
   "cell_type": "code",
   "execution_count": 15,
   "metadata": {},
   "outputs": [],
   "source": [
    "#variables for dropdown list\n",
    "lan1 = StringVar(root)\n",
    "lan2 = StringVar(root)"
   ]
  },
  {
   "cell_type": "code",
   "execution_count": 16,
   "metadata": {},
   "outputs": [],
   "source": [
    "#choices to show in dropdown menu\n",
    "choices = { 'English','Hindi','Gujarati','Spanish','German'}\n",
    "#default selection for dropdownlists\n",
    "lan1.set('English')\n",
    "lan2.set('Hindi')"
   ]
  },
  {
   "cell_type": "code",
   "execution_count": 17,
   "metadata": {},
   "outputs": [],
   "source": [
    "#creating dropdown and arranging in the grid\n",
    "lan1menu = OptionMenu( mainframe, lan1, *choices)\n",
    "Label(mainframe,text=\"Select a language\").grid(row = 0, column = 1)\n",
    "lan1menu.grid(row = 1, column =1)\n",
    "\n",
    "lan2menu = OptionMenu( mainframe, lan2, *choices)\n",
    "Label(mainframe,text=\"Select a language\").grid(row = 0, column = 2)\n",
    "lan2menu.grid(row = 1, column =2)"
   ]
  },
  {
   "cell_type": "code",
   "execution_count": 18,
   "metadata": {},
   "outputs": [],
   "source": [
    "#Text Box to take user input\n",
    "Label(mainframe, text = \"Enter text\").grid(row=2,column=0)\n",
    "var = StringVar()\n",
    "textbox = Entry(mainframe, textvariable=var).grid(row=2,column=1)"
   ]
  },
  {
   "cell_type": "code",
   "execution_count": 19,
   "metadata": {},
   "outputs": [],
   "source": [
    "#textbox to show output label can also be used\n",
    "Label(mainframe, text = \"Output\").grid(row=2,column=2)\n",
    "var1 = StringVar()\n",
    "textbox = Entry(mainframe, textvariable=var1).grid(row=2,column=3)"
   ]
  },
  {
   "cell_type": "code",
   "execution_count": null,
   "metadata": {},
   "outputs": [],
   "source": [
    "#creating a button to call Translator function\n",
    "b=Button(mainframe,text='Translate',command=translate).grid(row=3,column=1,columnspan=3)\n",
    "\n",
    "root.mainloop()"
   ]
  },
  {
   "cell_type": "code",
   "execution_count": null,
   "metadata": {},
   "outputs": [],
   "source": []
  }
 ],
 "metadata": {
  "kernelspec": {
   "display_name": "Python 3",
   "language": "python",
   "name": "python3"
  },
  "language_info": {
   "codemirror_mode": {
    "name": "ipython",
    "version": 3
   },
   "file_extension": ".py",
   "mimetype": "text/x-python",
   "name": "python",
   "nbconvert_exporter": "python",
   "pygments_lexer": "ipython3",
   "version": "3.7.6"
  }
 },
 "nbformat": 4,
 "nbformat_minor": 2
}
